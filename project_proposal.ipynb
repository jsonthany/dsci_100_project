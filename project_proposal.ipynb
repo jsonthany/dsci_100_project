{
 "cells": [
  {
   "cell_type": "markdown",
   "metadata": {},
   "source": [
    "# Analysis of Factors impacting Student Grades"
   ]
  },
  {
   "cell_type": "markdown",
   "metadata": {},
   "source": [
    "### PROJECT SPECIFICATION\n",
    "- **Data Set:** Student Performance Data Set (source: https://archive.ics.uci.edu/ml/datasets/Student+Performance)\n",
    "- **Project Question:** How are each student's individual final grades impacted by their family/home backgrounds, individual effort, demography, past academic records, and extra-curricular educational support?"
   ]
  },
  {
   "cell_type": "markdown",
   "metadata": {},
   "source": [
    "### INTRODUCTION\n",
    "\n",
    "\n",
    "**Project Background Information**\n",
    "\n",
    "One of the most pertinent questions looming over educators' heads worldwide is, **what are the most important factors that determine a student's ability to learn?** Large discrepencies in individual's grades exist within most schools, despite most students receiving the same shared resources (e.g. teachers, books, etc.) within school and educational curriculum between schools. Hence, it is important that we look at other factors outside of school that may influence a student's learning ability.\n",
    "\n",
    "Before continuing further, we need to make the assumption that grades are good indication of a student's ability to learn, reflecting their ability to understand and grasp the concepts learned in their respective subjects. Although in reality, this assumption does not always hold, we have chosen grades as our response variable to reflect one's learning ability because it is still the golden standard used to measure in most educational institutions worldwide.\n",
    "\n",
    "\n",
    "**Project Question** \n",
    "\n",
    "This brings us to our overarching question: **how are each students individual final grades impacted by their family/home backgrounds, individual effort, demography, past academic records, and extra-curricular educational support?** More importantly, understanding not only how, but also measuring the weight / level of impact of each variables, will potentially provide a pathway to improve student's future learning ability. \n",
    "\n",
    "\n",
    "**Dataset Description:**\n",
    "\n",
    "The dataset is taken from two Portuguese schools ('GP' - Gabriel Pereira and 'MS' - Mousinho da Silveira) and measures several of their secondary student's attributes and their three types of grades (Portugese class grades, Math class grades, and Final grades). The student attributes that were measured include, but are not limited to, the following: school, sex, age, study time, travel time to school, etc. \n",
    "\n",
    "We understand that the given dataset only reflects two Portugese schools and is not reflective other schools worldwide (as posed in our project question), but it is indeed a good starting point as we explore answers to the question."
   ]
  },
  {
   "cell_type": "markdown",
   "metadata": {},
   "source": [
    "### PRELIMINARY EXPLORATORY DATA ANALYSIS"
   ]
  },
  {
   "cell_type": "code",
   "execution_count": 8,
   "metadata": {},
   "outputs": [],
   "source": [
    "# load relevant libraries\n",
    "library(tidyverse)\n",
    "library(repr)\n",
    "library(caret)\n",
    "library(ggplot2)\n",
    "library(tidymodels)"
   ]
  },
  {
   "cell_type": "markdown",
   "metadata": {},
   "source": [
    "**Reading the Data**"
   ]
  },
  {
   "cell_type": "code",
   "execution_count": 9,
   "metadata": {},
   "outputs": [
    {
     "name": "stderr",
     "output_type": "stream",
     "text": [
      "Parsed with column specification:\n",
      "cols(\n",
      "  .default = col_character(),\n",
      "  age = \u001b[32mcol_double()\u001b[39m,\n",
      "  Medu = \u001b[32mcol_double()\u001b[39m,\n",
      "  Fedu = \u001b[32mcol_double()\u001b[39m,\n",
      "  traveltime = \u001b[32mcol_double()\u001b[39m,\n",
      "  studytime = \u001b[32mcol_double()\u001b[39m,\n",
      "  failures = \u001b[32mcol_double()\u001b[39m,\n",
      "  famrel = \u001b[32mcol_double()\u001b[39m,\n",
      "  freetime = \u001b[32mcol_double()\u001b[39m,\n",
      "  goout = \u001b[32mcol_double()\u001b[39m,\n",
      "  Dalc = \u001b[32mcol_double()\u001b[39m,\n",
      "  Walc = \u001b[32mcol_double()\u001b[39m,\n",
      "  health = \u001b[32mcol_double()\u001b[39m,\n",
      "  absences = \u001b[32mcol_double()\u001b[39m,\n",
      "  G1 = \u001b[32mcol_double()\u001b[39m,\n",
      "  G2 = \u001b[32mcol_double()\u001b[39m,\n",
      "  G3 = \u001b[32mcol_double()\u001b[39m\n",
      ")\n",
      "\n",
      "See spec(...) for full column specifications.\n",
      "\n"
     ]
    },
    {
     "data": {
      "text/html": [
       "<table>\n",
       "<caption>A tibble: 10 × 33</caption>\n",
       "<thead>\n",
       "\t<tr><th scope=col>school</th><th scope=col>sex</th><th scope=col>age</th><th scope=col>address</th><th scope=col>famsize</th><th scope=col>Pstatus</th><th scope=col>Medu</th><th scope=col>Fedu</th><th scope=col>Mjob</th><th scope=col>Fjob</th><th scope=col>⋯</th><th scope=col>famrel</th><th scope=col>freetime</th><th scope=col>goout</th><th scope=col>Dalc</th><th scope=col>Walc</th><th scope=col>health</th><th scope=col>absences</th><th scope=col>G1</th><th scope=col>G2</th><th scope=col>G3</th></tr>\n",
       "\t<tr><th scope=col>&lt;chr&gt;</th><th scope=col>&lt;chr&gt;</th><th scope=col>&lt;dbl&gt;</th><th scope=col>&lt;chr&gt;</th><th scope=col>&lt;chr&gt;</th><th scope=col>&lt;chr&gt;</th><th scope=col>&lt;dbl&gt;</th><th scope=col>&lt;dbl&gt;</th><th scope=col>&lt;chr&gt;</th><th scope=col>&lt;chr&gt;</th><th scope=col>⋯</th><th scope=col>&lt;dbl&gt;</th><th scope=col>&lt;dbl&gt;</th><th scope=col>&lt;dbl&gt;</th><th scope=col>&lt;dbl&gt;</th><th scope=col>&lt;dbl&gt;</th><th scope=col>&lt;dbl&gt;</th><th scope=col>&lt;dbl&gt;</th><th scope=col>&lt;dbl&gt;</th><th scope=col>&lt;dbl&gt;</th><th scope=col>&lt;dbl&gt;</th></tr>\n",
       "</thead>\n",
       "<tbody>\n",
       "\t<tr><td>GP</td><td>F</td><td>18</td><td>U</td><td>GT3</td><td>A</td><td>4</td><td>4</td><td>at_home </td><td>teacher </td><td>⋯</td><td>4</td><td>3</td><td>4</td><td>1</td><td>1</td><td>3</td><td>4</td><td> 0</td><td>11</td><td>11</td></tr>\n",
       "\t<tr><td>GP</td><td>F</td><td>17</td><td>U</td><td>GT3</td><td>T</td><td>1</td><td>1</td><td>at_home </td><td>other   </td><td>⋯</td><td>5</td><td>3</td><td>3</td><td>1</td><td>1</td><td>3</td><td>2</td><td> 9</td><td>11</td><td>11</td></tr>\n",
       "\t<tr><td>GP</td><td>F</td><td>15</td><td>U</td><td>LE3</td><td>T</td><td>1</td><td>1</td><td>at_home </td><td>other   </td><td>⋯</td><td>4</td><td>3</td><td>2</td><td>2</td><td>3</td><td>3</td><td>6</td><td>12</td><td>13</td><td>12</td></tr>\n",
       "\t<tr><td>GP</td><td>F</td><td>15</td><td>U</td><td>GT3</td><td>T</td><td>4</td><td>2</td><td>health  </td><td>services</td><td>⋯</td><td>3</td><td>2</td><td>2</td><td>1</td><td>1</td><td>5</td><td>0</td><td>14</td><td>14</td><td>14</td></tr>\n",
       "\t<tr><td>GP</td><td>F</td><td>16</td><td>U</td><td>GT3</td><td>T</td><td>3</td><td>3</td><td>other   </td><td>other   </td><td>⋯</td><td>4</td><td>3</td><td>2</td><td>1</td><td>2</td><td>5</td><td>0</td><td>11</td><td>13</td><td>13</td></tr>\n",
       "\t<tr><td>GP</td><td>M</td><td>16</td><td>U</td><td>LE3</td><td>T</td><td>4</td><td>3</td><td>services</td><td>other   </td><td>⋯</td><td>5</td><td>4</td><td>2</td><td>1</td><td>2</td><td>5</td><td>6</td><td>12</td><td>12</td><td>13</td></tr>\n",
       "\t<tr><td>GP</td><td>M</td><td>16</td><td>U</td><td>LE3</td><td>T</td><td>2</td><td>2</td><td>other   </td><td>other   </td><td>⋯</td><td>4</td><td>4</td><td>4</td><td>1</td><td>1</td><td>3</td><td>0</td><td>13</td><td>12</td><td>13</td></tr>\n",
       "\t<tr><td>GP</td><td>F</td><td>17</td><td>U</td><td>GT3</td><td>A</td><td>4</td><td>4</td><td>other   </td><td>teacher </td><td>⋯</td><td>4</td><td>1</td><td>4</td><td>1</td><td>1</td><td>1</td><td>2</td><td>10</td><td>13</td><td>13</td></tr>\n",
       "\t<tr><td>GP</td><td>M</td><td>15</td><td>U</td><td>LE3</td><td>A</td><td>3</td><td>2</td><td>services</td><td>other   </td><td>⋯</td><td>4</td><td>2</td><td>2</td><td>1</td><td>1</td><td>1</td><td>0</td><td>15</td><td>16</td><td>17</td></tr>\n",
       "\t<tr><td>GP</td><td>M</td><td>15</td><td>U</td><td>GT3</td><td>T</td><td>3</td><td>4</td><td>other   </td><td>other   </td><td>⋯</td><td>5</td><td>5</td><td>1</td><td>1</td><td>1</td><td>5</td><td>0</td><td>12</td><td>12</td><td>13</td></tr>\n",
       "</tbody>\n",
       "</table>\n"
      ],
      "text/latex": [
       "A tibble: 10 × 33\n",
       "\\begin{tabular}{lllllllllllllllllllll}\n",
       " school & sex & age & address & famsize & Pstatus & Medu & Fedu & Mjob & Fjob & ⋯ & famrel & freetime & goout & Dalc & Walc & health & absences & G1 & G2 & G3\\\\\n",
       " <chr> & <chr> & <dbl> & <chr> & <chr> & <chr> & <dbl> & <dbl> & <chr> & <chr> & ⋯ & <dbl> & <dbl> & <dbl> & <dbl> & <dbl> & <dbl> & <dbl> & <dbl> & <dbl> & <dbl>\\\\\n",
       "\\hline\n",
       "\t GP & F & 18 & U & GT3 & A & 4 & 4 & at\\_home  & teacher  & ⋯ & 4 & 3 & 4 & 1 & 1 & 3 & 4 &  0 & 11 & 11\\\\\n",
       "\t GP & F & 17 & U & GT3 & T & 1 & 1 & at\\_home  & other    & ⋯ & 5 & 3 & 3 & 1 & 1 & 3 & 2 &  9 & 11 & 11\\\\\n",
       "\t GP & F & 15 & U & LE3 & T & 1 & 1 & at\\_home  & other    & ⋯ & 4 & 3 & 2 & 2 & 3 & 3 & 6 & 12 & 13 & 12\\\\\n",
       "\t GP & F & 15 & U & GT3 & T & 4 & 2 & health   & services & ⋯ & 3 & 2 & 2 & 1 & 1 & 5 & 0 & 14 & 14 & 14\\\\\n",
       "\t GP & F & 16 & U & GT3 & T & 3 & 3 & other    & other    & ⋯ & 4 & 3 & 2 & 1 & 2 & 5 & 0 & 11 & 13 & 13\\\\\n",
       "\t GP & M & 16 & U & LE3 & T & 4 & 3 & services & other    & ⋯ & 5 & 4 & 2 & 1 & 2 & 5 & 6 & 12 & 12 & 13\\\\\n",
       "\t GP & M & 16 & U & LE3 & T & 2 & 2 & other    & other    & ⋯ & 4 & 4 & 4 & 1 & 1 & 3 & 0 & 13 & 12 & 13\\\\\n",
       "\t GP & F & 17 & U & GT3 & A & 4 & 4 & other    & teacher  & ⋯ & 4 & 1 & 4 & 1 & 1 & 1 & 2 & 10 & 13 & 13\\\\\n",
       "\t GP & M & 15 & U & LE3 & A & 3 & 2 & services & other    & ⋯ & 4 & 2 & 2 & 1 & 1 & 1 & 0 & 15 & 16 & 17\\\\\n",
       "\t GP & M & 15 & U & GT3 & T & 3 & 4 & other    & other    & ⋯ & 5 & 5 & 1 & 1 & 1 & 5 & 0 & 12 & 12 & 13\\\\\n",
       "\\end{tabular}\n"
      ],
      "text/markdown": [
       "\n",
       "A tibble: 10 × 33\n",
       "\n",
       "| school &lt;chr&gt; | sex &lt;chr&gt; | age &lt;dbl&gt; | address &lt;chr&gt; | famsize &lt;chr&gt; | Pstatus &lt;chr&gt; | Medu &lt;dbl&gt; | Fedu &lt;dbl&gt; | Mjob &lt;chr&gt; | Fjob &lt;chr&gt; | ⋯ ⋯ | famrel &lt;dbl&gt; | freetime &lt;dbl&gt; | goout &lt;dbl&gt; | Dalc &lt;dbl&gt; | Walc &lt;dbl&gt; | health &lt;dbl&gt; | absences &lt;dbl&gt; | G1 &lt;dbl&gt; | G2 &lt;dbl&gt; | G3 &lt;dbl&gt; |\n",
       "|---|---|---|---|---|---|---|---|---|---|---|---|---|---|---|---|---|---|---|---|---|\n",
       "| GP | F | 18 | U | GT3 | A | 4 | 4 | at_home  | teacher  | ⋯ | 4 | 3 | 4 | 1 | 1 | 3 | 4 |  0 | 11 | 11 |\n",
       "| GP | F | 17 | U | GT3 | T | 1 | 1 | at_home  | other    | ⋯ | 5 | 3 | 3 | 1 | 1 | 3 | 2 |  9 | 11 | 11 |\n",
       "| GP | F | 15 | U | LE3 | T | 1 | 1 | at_home  | other    | ⋯ | 4 | 3 | 2 | 2 | 3 | 3 | 6 | 12 | 13 | 12 |\n",
       "| GP | F | 15 | U | GT3 | T | 4 | 2 | health   | services | ⋯ | 3 | 2 | 2 | 1 | 1 | 5 | 0 | 14 | 14 | 14 |\n",
       "| GP | F | 16 | U | GT3 | T | 3 | 3 | other    | other    | ⋯ | 4 | 3 | 2 | 1 | 2 | 5 | 0 | 11 | 13 | 13 |\n",
       "| GP | M | 16 | U | LE3 | T | 4 | 3 | services | other    | ⋯ | 5 | 4 | 2 | 1 | 2 | 5 | 6 | 12 | 12 | 13 |\n",
       "| GP | M | 16 | U | LE3 | T | 2 | 2 | other    | other    | ⋯ | 4 | 4 | 4 | 1 | 1 | 3 | 0 | 13 | 12 | 13 |\n",
       "| GP | F | 17 | U | GT3 | A | 4 | 4 | other    | teacher  | ⋯ | 4 | 1 | 4 | 1 | 1 | 1 | 2 | 10 | 13 | 13 |\n",
       "| GP | M | 15 | U | LE3 | A | 3 | 2 | services | other    | ⋯ | 4 | 2 | 2 | 1 | 1 | 1 | 0 | 15 | 16 | 17 |\n",
       "| GP | M | 15 | U | GT3 | T | 3 | 4 | other    | other    | ⋯ | 5 | 5 | 1 | 1 | 1 | 5 | 0 | 12 | 12 | 13 |\n",
       "\n"
      ],
      "text/plain": [
       "   school sex age address famsize Pstatus Medu Fedu Mjob     Fjob     ⋯ famrel\n",
       "1  GP     F   18  U       GT3     A       4    4    at_home  teacher  ⋯ 4     \n",
       "2  GP     F   17  U       GT3     T       1    1    at_home  other    ⋯ 5     \n",
       "3  GP     F   15  U       LE3     T       1    1    at_home  other    ⋯ 4     \n",
       "4  GP     F   15  U       GT3     T       4    2    health   services ⋯ 3     \n",
       "5  GP     F   16  U       GT3     T       3    3    other    other    ⋯ 4     \n",
       "6  GP     M   16  U       LE3     T       4    3    services other    ⋯ 5     \n",
       "7  GP     M   16  U       LE3     T       2    2    other    other    ⋯ 4     \n",
       "8  GP     F   17  U       GT3     A       4    4    other    teacher  ⋯ 4     \n",
       "9  GP     M   15  U       LE3     A       3    2    services other    ⋯ 4     \n",
       "10 GP     M   15  U       GT3     T       3    4    other    other    ⋯ 5     \n",
       "   freetime goout Dalc Walc health absences G1 G2 G3\n",
       "1  3        4     1    1    3      4         0 11 11\n",
       "2  3        3     1    1    3      2         9 11 11\n",
       "3  3        2     2    3    3      6        12 13 12\n",
       "4  2        2     1    1    5      0        14 14 14\n",
       "5  3        2     1    2    5      0        11 13 13\n",
       "6  4        2     1    2    5      6        12 12 13\n",
       "7  4        4     1    1    3      0        13 12 13\n",
       "8  1        4     1    1    1      2        10 13 13\n",
       "9  2        2     1    1    1      0        15 16 17\n",
       "10 5        1     1    1    5      0        12 12 13"
      ]
     },
     "metadata": {},
     "output_type": "display_data"
    }
   ],
   "source": [
    "# Demonstrate that the dataset can be read from the web into R\n",
    "student_data <- read_delim(\"data/student-por.csv\", delim = \";\")\n",
    "\n",
    "# take a look at first 10 rows of dataset\n",
    "student_data %>% head(10)"
   ]
  },
  {
   "cell_type": "markdown",
   "metadata": {},
   "source": [
    "**Cleaning the data**\n",
    "\n",
    "Each row of the data set represents a single student, while each column only contains one single variable and there is only one value in a single cell. The data has already been read in a tidy format and now the formation of a useful data table can begin."
   ]
  },
  {
   "cell_type": "markdown",
   "metadata": {},
   "source": [
    "**Summarizing the Data**"
   ]
  },
  {
   "cell_type": "code",
   "execution_count": 11,
   "metadata": {},
   "outputs": [
    {
     "name": "stderr",
     "output_type": "stream",
     "text": [
      "`summarise()` ungrouping output (override with `.groups` argument)\n",
      "\n"
     ]
    },
    {
     "data": {
      "text/html": [
       "<table>\n",
       "<caption>A tibble: 4 × 4</caption>\n",
       "<thead>\n",
       "\t<tr><th scope=col>studytime</th><th scope=col>min_final_grade</th><th scope=col>max_final_grade</th><th scope=col>mean_final_grade</th></tr>\n",
       "\t<tr><th scope=col>&lt;dbl&gt;</th><th scope=col>&lt;dbl&gt;</th><th scope=col>&lt;dbl&gt;</th><th scope=col>&lt;dbl&gt;</th></tr>\n",
       "</thead>\n",
       "<tbody>\n",
       "\t<tr><td>1</td><td>0</td><td>18</td><td>10.78788</td></tr>\n",
       "\t<tr><td>2</td><td>0</td><td>19</td><td>12.11659</td></tr>\n",
       "\t<tr><td>3</td><td>8</td><td>18</td><td>13.18421</td></tr>\n",
       "\t<tr><td>4</td><td>6</td><td>18</td><td>12.75000</td></tr>\n",
       "</tbody>\n",
       "</table>\n"
      ],
      "text/latex": [
       "A tibble: 4 × 4\n",
       "\\begin{tabular}{llll}\n",
       " studytime & min\\_final\\_grade & max\\_final\\_grade & mean\\_final\\_grade\\\\\n",
       " <dbl> & <dbl> & <dbl> & <dbl>\\\\\n",
       "\\hline\n",
       "\t 1 & 0 & 18 & 10.78788\\\\\n",
       "\t 2 & 0 & 19 & 12.11659\\\\\n",
       "\t 3 & 8 & 18 & 13.18421\\\\\n",
       "\t 4 & 6 & 18 & 12.75000\\\\\n",
       "\\end{tabular}\n"
      ],
      "text/markdown": [
       "\n",
       "A tibble: 4 × 4\n",
       "\n",
       "| studytime &lt;dbl&gt; | min_final_grade &lt;dbl&gt; | max_final_grade &lt;dbl&gt; | mean_final_grade &lt;dbl&gt; |\n",
       "|---|---|---|---|\n",
       "| 1 | 0 | 18 | 10.78788 |\n",
       "| 2 | 0 | 19 | 12.11659 |\n",
       "| 3 | 8 | 18 | 13.18421 |\n",
       "| 4 | 6 | 18 | 12.75000 |\n",
       "\n"
      ],
      "text/plain": [
       "  studytime min_final_grade max_final_grade mean_final_grade\n",
       "1 1         0               18              10.78788        \n",
       "2 2         0               19              12.11659        \n",
       "3 3         8               18              13.18421        \n",
       "4 4         6               18              12.75000        "
      ]
     },
     "metadata": {},
     "output_type": "display_data"
    }
   ],
   "source": [
    "# Summarize the data using only training data\n",
    "\n",
    "student_split <- initial_split(student_data, prop = 0.75, strata = G3)  \n",
    "student_train <- training(student_split)   \n",
    "student_test <- testing(student_split)\n",
    "\n",
    "\n",
    "# In this table, we summarized the mean, minimum and maximum final grades of students on the basis of their weekly study time \n",
    "# The categories for study time are 1: <2 hours, 2: 2 to 5 hours, 3: 5 to 10 hours, 4: >10 hours\n",
    "\n",
    "study_time_summary <- group_by (student_train, studytime) %>% \n",
    "            summarize (\n",
    "                min_final_grade = min(G3), \n",
    "                max_final_grade = max (G3), \n",
    "                mean_final_grade = mean (G3)\n",
    "                )\n",
    "study_time_summary"
   ]
  },
  {
   "cell_type": "code",
   "execution_count": 12,
   "metadata": {},
   "outputs": [
    {
     "name": "stderr",
     "output_type": "stream",
     "text": [
      "`summarise()` regrouping output by 'famsup' (override with `.groups` argument)\n",
      "\n"
     ]
    },
    {
     "data": {
      "text/html": [
       "<table>\n",
       "<caption>A grouped_df: 4 × 5</caption>\n",
       "<thead>\n",
       "\t<tr><th scope=col>famsup</th><th scope=col>schoolsup</th><th scope=col>min_final_grade</th><th scope=col>max_final_grade</th><th scope=col>mean_final_grade</th></tr>\n",
       "\t<tr><th scope=col>&lt;chr&gt;</th><th scope=col>&lt;chr&gt;</th><th scope=col>&lt;dbl&gt;</th><th scope=col>&lt;dbl&gt;</th><th scope=col>&lt;dbl&gt;</th></tr>\n",
       "</thead>\n",
       "<tbody>\n",
       "\t<tr><td>no </td><td>no </td><td>0</td><td>19</td><td>11.72674</td></tr>\n",
       "\t<tr><td>no </td><td>yes</td><td>8</td><td>13</td><td>10.56250</td></tr>\n",
       "\t<tr><td>yes</td><td>no </td><td>0</td><td>18</td><td>12.05682</td></tr>\n",
       "\t<tr><td>yes</td><td>yes</td><td>8</td><td>16</td><td>11.69444</td></tr>\n",
       "</tbody>\n",
       "</table>\n"
      ],
      "text/latex": [
       "A grouped\\_df: 4 × 5\n",
       "\\begin{tabular}{lllll}\n",
       " famsup & schoolsup & min\\_final\\_grade & max\\_final\\_grade & mean\\_final\\_grade\\\\\n",
       " <chr> & <chr> & <dbl> & <dbl> & <dbl>\\\\\n",
       "\\hline\n",
       "\t no  & no  & 0 & 19 & 11.72674\\\\\n",
       "\t no  & yes & 8 & 13 & 10.56250\\\\\n",
       "\t yes & no  & 0 & 18 & 12.05682\\\\\n",
       "\t yes & yes & 8 & 16 & 11.69444\\\\\n",
       "\\end{tabular}\n"
      ],
      "text/markdown": [
       "\n",
       "A grouped_df: 4 × 5\n",
       "\n",
       "| famsup &lt;chr&gt; | schoolsup &lt;chr&gt; | min_final_grade &lt;dbl&gt; | max_final_grade &lt;dbl&gt; | mean_final_grade &lt;dbl&gt; |\n",
       "|---|---|---|---|---|\n",
       "| no  | no  | 0 | 19 | 11.72674 |\n",
       "| no  | yes | 8 | 13 | 10.56250 |\n",
       "| yes | no  | 0 | 18 | 12.05682 |\n",
       "| yes | yes | 8 | 16 | 11.69444 |\n",
       "\n"
      ],
      "text/plain": [
       "  famsup schoolsup min_final_grade max_final_grade mean_final_grade\n",
       "1 no     no        0               19              11.72674        \n",
       "2 no     yes       8               13              10.56250        \n",
       "3 yes    no        0               18              12.05682        \n",
       "4 yes    yes       8               16              11.69444        "
      ]
     },
     "metadata": {},
     "output_type": "display_data"
    }
   ],
   "source": [
    "# In this table, we have summarized the mean, minimum and maximum final grades of students \n",
    "# on the basis of whether or not they recieved extra educational support from their school and their family \n",
    "\n",
    "support_summary <- group_by (student_train, famsup, schoolsup) %>% \n",
    "            summarize (\n",
    "                min_final_grade = min(G3), \n",
    "                max_final_grade = max (G3), \n",
    "                mean_final_grade = mean (G3)\n",
    "                )\n",
    "support_summary"
   ]
  },
  {
   "cell_type": "code",
   "execution_count": 13,
   "metadata": {},
   "outputs": [
    {
     "name": "stderr",
     "output_type": "stream",
     "text": [
      "`summarise()` ungrouping output (override with `.groups` argument)\n",
      "\n"
     ]
    },
    {
     "data": {
      "text/html": [
       "<table>\n",
       "<caption>A tibble: 4 × 4</caption>\n",
       "<thead>\n",
       "\t<tr><th scope=col>failures</th><th scope=col>min_final_grade</th><th scope=col>max_final_grade</th><th scope=col>mean_final_grade</th></tr>\n",
       "\t<tr><th scope=col>&lt;dbl&gt;</th><th scope=col>&lt;dbl&gt;</th><th scope=col>&lt;dbl&gt;</th><th scope=col>&lt;dbl&gt;</th></tr>\n",
       "</thead>\n",
       "<tbody>\n",
       "\t<tr><td>0</td><td>0</td><td>19</td><td>12.516827</td></tr>\n",
       "\t<tr><td>1</td><td>0</td><td>12</td><td> 7.880000</td></tr>\n",
       "\t<tr><td>2</td><td>6</td><td>15</td><td> 9.500000</td></tr>\n",
       "\t<tr><td>3</td><td>0</td><td>11</td><td> 7.833333</td></tr>\n",
       "</tbody>\n",
       "</table>\n"
      ],
      "text/latex": [
       "A tibble: 4 × 4\n",
       "\\begin{tabular}{llll}\n",
       " failures & min\\_final\\_grade & max\\_final\\_grade & mean\\_final\\_grade\\\\\n",
       " <dbl> & <dbl> & <dbl> & <dbl>\\\\\n",
       "\\hline\n",
       "\t 0 & 0 & 19 & 12.516827\\\\\n",
       "\t 1 & 0 & 12 &  7.880000\\\\\n",
       "\t 2 & 6 & 15 &  9.500000\\\\\n",
       "\t 3 & 0 & 11 &  7.833333\\\\\n",
       "\\end{tabular}\n"
      ],
      "text/markdown": [
       "\n",
       "A tibble: 4 × 4\n",
       "\n",
       "| failures &lt;dbl&gt; | min_final_grade &lt;dbl&gt; | max_final_grade &lt;dbl&gt; | mean_final_grade &lt;dbl&gt; |\n",
       "|---|---|---|---|\n",
       "| 0 | 0 | 19 | 12.516827 |\n",
       "| 1 | 0 | 12 |  7.880000 |\n",
       "| 2 | 6 | 15 |  9.500000 |\n",
       "| 3 | 0 | 11 |  7.833333 |\n",
       "\n"
      ],
      "text/plain": [
       "  failures min_final_grade max_final_grade mean_final_grade\n",
       "1 0        0               19              12.516827       \n",
       "2 1        0               12               7.880000       \n",
       "3 2        6               15               9.500000       \n",
       "4 3        0               11               7.833333       "
      ]
     },
     "metadata": {},
     "output_type": "display_data"
    }
   ],
   "source": [
    "# In this table, we have summarized the mean, minimum and maximum final grades of students on the basis of number of past failures\n",
    "\n",
    "failures_summary <- group_by (student_train, failures) %>% \n",
    "            summarize (\n",
    "                min_final_grade = min(G3), \n",
    "                max_final_grade = max (G3), \n",
    "                mean_final_grade = mean (G3)\n",
    "                )\n",
    "failures_summary"
   ]
  },
  {
   "cell_type": "markdown",
   "metadata": {},
   "source": [
    "**Visualizing the Data**\n",
    "\n",
    "One analysis we plan to do is analyze the impact of family relationships on the student's grades. As shown below, it seems like there is no clear distinction of grades between students with very poor and excellent family relationships. But those with poor family relationships seem to have the lowest grade median, while the group with the best family relationships seem to have the highest final grade median."
   ]
  },
  {
   "cell_type": "code",
   "execution_count": 13,
   "metadata": {},
   "outputs": [
    {
     "data": {
      "image/png": "[encoded data removed]",
      "text/plain": [
       "plot without title"
      ]
     },
     "metadata": {
      "image/png": {
       "height": 360,
       "width": 900
      }
     },
     "output_type": "display_data"
    }
   ],
   "source": [
    "options(repr.plot.width=15, repr.plot.height=6)\n",
    "\n",
    "fam_relation_grades <- ggplot(student_data, aes(x=as.factor(famrel), y=G3)) +\n",
    "                            geom_boxplot() +\n",
    "                            xlab(\"Family relationship (1 = very bad, 5 = excellent)\") +\n",
    "                            ylab(\"Final grades (out of 20)\") +\n",
    "                            ggtitle(\"Final Grades by Family Relationship Level\") +\n",
    "                            theme(text = element_text(size = 15))\n",
    "\n",
    "fam_relation_grades"
   ]
  },
  {
   "cell_type": "markdown",
   "metadata": {},
   "source": [
    "Additionally, one more analysis that we would like to visualize and further understand is **the impact of the student's age and their sex on their final grades.** At a first glance, it seems like there is a positive correlation between age and final grades."
   ]
  },
  {
   "cell_type": "code",
   "execution_count": 14,
   "metadata": {},
   "outputs": [
    {
     "data": {
      "image/png": "[encoded data removed]",
      "text/plain": [
       "plot without title"
      ]
     },
     "metadata": {
      "image/png": {
       "height": 360,
       "width": 900
      }
     },
     "output_type": "display_data"
    }
   ],
   "source": [
    "options(repr.plot.width=15, repr.plot.height=6)\n",
    "\n",
    "absences_grades <- ggplot(student_data, aes(x=G1, y=G3, color=sex)) +\n",
    "                            geom_point() +\n",
    "                            xlab(\"Age\") +\n",
    "                            ylab(\"Final grades (out of 20)\") +\n",
    "                            ggtitle(\"Final Grades by Age\") +\n",
    "                            theme(text = element_text(size = 15))\n",
    "\n",
    "absences_grades"
   ]
  },
  {
   "cell_type": "markdown",
   "metadata": {},
   "source": [
    "### METHODS\n",
    "\n",
    "This data analysis will focus mainly on the effects different factors of an individual student's life (ie. their parent's educational backgrounds/livelihoods, and the student's personal study habits) have on their final grades. Therefore, only about a third of the columns in the data set are necessary to understand these effects. The most pertinent factors when pursuing this analysis are those in association with family background, demographic and educational efforts of an individual. The necessary variables to trace the effects of family background would be parental educational background (Medu/Fedu), parental livelihood (Mjob/Fjob), parental marital status (Pstatus), family size and family relationships (famsize/famrel). The individuals demography would be represented by sex and age, and their educstional efforts by time spent studying (studytime), extra educational support (schoolsup) or paid classes (paid) and if the individual has a history of past failures (failures). The analysis of all these factors should show effects on the students final grades (G3).\n",
    "\n",
    "In order to visualize this data, we will split the data into two different sections: \n",
    "1) One section will be specific to binary or categorical factors, such as if the student is receiving extra paid classes or not, or the overall rating of family relationships. This section will be represented by bar graphs or box plots (as represented above). \n",
    "\n",
    "2) The second section of categories will be for numerical factors such as study time and parental educational background. This type of data is best presented using scatterplots or line graphs. \n",
    "\n",
    "Using two different types of plots allows us to analyze trends in the dataset in a more exhaustive and cohesive manner, such as if there is a positive relationship between grades and study time, or if those with more stable or positive family backgrounds are receiving higher grades."
   ]
  },
  {
   "cell_type": "markdown",
   "metadata": {},
   "source": [
    "### EXPECTED OUTCOMES AND SIGNIFICANCE\n",
    "**What do you expect to find?**\n",
    "\n",
    "We expect to find that poor family relationships, lower individual efforts, poor past academic performances and less extra-curricular support will be indicators of poor.\n",
    "\n",
    "We expect to find that these various factors outside of school resources, such as family background, individual effort, and extra-curricular educational support, play an important role in predicting a student's grades.\n",
    "\n",
    "**What impact could such findings have?**\n",
    "\n",
    "Understanding the importance of various factors that impact a student's performance at school could inform the decisions of students, parents, schools, as well as policymakers, in order to improve the conditions under which students learn, and increase their chances of performing well. However, we must consider the limited nature of this dataset, which only includes data from two schools, which decreases the generalizability of results.\n",
    "\n",
    "**What future questions could this lead to?**\n",
    "\n",
    "Some of the future questions this could lead to include:\n",
    "\n",
    "- What is the relative importance of each of these factors that influence student performance? \n",
    "- To what extent can manipulation of these factors lead to changes in a student's performance? \n",
    "- Are there other factors beyond the ones we investigated, which play a large role in student performance? \n",
    "- Do these factors also impact the likelihood of a student pursuing higher education? \n",
    "- What is the impact of these factors on student well-being, and the relationship between student performance and well-being?\n",
    "   "
   ]
  },
  {
   "cell_type": "code",
   "execution_count": null,
   "metadata": {},
   "outputs": [],
   "source": []
  }
 ],
 "metadata": {
  "kernelspec": {
   "display_name": "R",
   "language": "R",
   "name": "ir"
  },
  "language_info": {
   "codemirror_mode": "r",
   "file_extension": ".r",
   "mimetype": "text/x-r-source",
   "name": "R",
   "pygments_lexer": "r",
   "version": "4.0.0"
  }
 },
 "nbformat": 4,
 "nbformat_minor": 4
}
