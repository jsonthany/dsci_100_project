{
 "cells": [
  {
   "cell_type": "markdown",
   "metadata": {},
   "source": [
    "# Project Methods"
   ]
  },
  {
   "cell_type": "markdown",
   "metadata": {},
   "source": [
    "## Step 1\n",
    "\n",
    "Formulate a hyposthesis based on research findings to answer the question: what factors (included in the data set) have the most impact on students' final grades?\n",
    "\n",
    "Out of the many different variables measured in the data set, we picked three based on our research that we believe could have significant impacts on students' performance in school. The three variables and our reasoning for picking them are as follows:\n",
    "\n",
    "1) Health Status: We expect that healthier students, indicated by having higher health ratings, will have higher final grades. This is based on the assumption that it is more difficult for a student to concentrate on school work when they are sick, and that sickness could cause them to miss school or perform poorly.  \n",
    "\n",
    "2) Family Relations: We predict that students with more positive relationships with their family members are likely to have better final grades. Strife between family members can be a big cause of stress and distraction in a student's life, which can negatively impact their learning and school performance.\n",
    "\n",
    "3) Absences: We predict that students who are frequently absent from school will have lower grades because they may have missed some of the material that was covered. Also, though there are many reasons that a student may miss a day of school, deliberately skipping school indicates that a student does not highly value thier education, and is likely not to care about thier grades or study in preparation for exams. \n",
    "\n",
    "We will use regression tools to compare each of these three variables to final grades for each student, and use the outcomes to determine which variable is the best predictor for final grades. \n"
   ]
  },
  {
   "cell_type": "markdown",
   "metadata": {},
   "source": [
    "## Step 2\n",
    "\n",
    "After defining our objectives, we will clean the data and select the relevant columns from the dataset: G3, absences, health, and famrel. "
   ]
  },
  {
   "cell_type": "markdown",
   "metadata": {},
   "source": [
    "## Step 3\n",
    "\n",
    "We will make scatterplots of each of the varibles versus final grades, to determine whether k-nn or linear regression are suitable and will give use the best results for each variable. If the scatterplot shows something resembling a clear linear trend, we will use linear regression; if not, we will use k-nn regression. Once we have chosen a methods for each variable, we will go ahead with building our regression models. \n",
    "\n",
    "For both types of regression, we will first seperate the data into a testing set and a training set. We will then set the testing data aside.\n",
    "\n",
    "For linear regression models:\n",
    "\n",
    "1) Create model specification. \n",
    "2) Create recipe.\n",
    "3) Create workflow that integrates model specification and recipe and fits the training data to the workflow.\n",
    "4) Take note of the equation of the line of best fit.\n",
    "5) Graph line of best fit over scatterplot of testing data to visualize relationship.\n",
    "5) Apply the model to the testing data and evaluate the level of error.\n",
    "\n",
    "For k-nn regression models:\n",
    "\n",
    "1) Center and scale predictors (I don't think we need to do this if we only have a single predictor, but the reading says it is still good practice to do it regardless).\n",
    "2) Create model specification.\n",
    "3) Create recipe.\n",
    "4) Peform a vfold (should we do 5? That is how many are in most of the worksheets and readings.).\n",
    "6) Create a workflow that integrates model specification and recipe and fits the training data to the workflow.\n",
    "7) Tune the model to find the best value of k neighbors by filtering the output for the minimum RMSPE value.\n",
    "8) Evaluate the model using the same recipe and model specification, but use the testing data. Take note of the RMSPE value to evaluate level of error. \n",
    "9) Graph results on top of the scatterplot.   "
   ]
  },
  {
   "cell_type": "markdown",
   "metadata": {},
   "source": [
    "## Step 4\n",
    "\n",
    "Evaluate results by comparing levels of error based on RMSE values: which of the three variables is the best predictor of final grades? Finally, perform a multivariare regression model to see the effects of all three predictors combined. Does a model using all three predictors perform better at predicting final grades than any of the model with a single predictor?\n",
    "\n"
   ]
  },
  {
   "cell_type": "code",
   "execution_count": null,
   "metadata": {},
   "outputs": [],
   "source": []
  }
 ],
 "metadata": {
  "kernelspec": {
   "display_name": "R",
   "language": "R",
   "name": "ir"
  },
  "language_info": {
   "codemirror_mode": "r",
   "file_extension": ".r",
   "mimetype": "text/x-r-source",
   "name": "R",
   "pygments_lexer": "r",
   "version": "4.0.0"
  }
 },
 "nbformat": 4,
 "nbformat_minor": 4
}
