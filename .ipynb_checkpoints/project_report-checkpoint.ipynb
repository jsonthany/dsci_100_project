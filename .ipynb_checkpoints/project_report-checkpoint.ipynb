{
 "cells": [
  {
   "cell_type": "markdown",
   "metadata": {},
   "source": [
    "# [Title Here - last thing to update]"
   ]
  },
  {
   "cell_type": "markdown",
   "metadata": {},
   "source": [
    "### INTRODUCTION [copy from report - no one needs to spend time on this]\n",
    "\n",
    "- provide some relevant background information on the topic so that someone unfamiliar with it will be prepared to understand the rest of your report\n",
    "- clearly state the question you tried to answer with your project\n",
    "- identify and describe the dataset that was used to answer the question"
   ]
  },
  {
   "cell_type": "markdown",
   "metadata": {},
   "source": [
    "### METHODS & RESULTS\n",
    "\n",
    "- describe in written English the methods you used to perform your analysis from beginning to end that narrates the code the does the analysis.\n",
    "- your report should include code which:\n",
    " - loads data from the original source on the web **(not from /data folder)**\n",
    " - wrangles and cleans the data from it's original (downloaded) format to the format necessary for the planned analysis\n",
    " - performs a summary of the data set that is relevant for exploratory data analysis related to the planned analysis \n",
    " - creates a visualization of the dataset that is relevant for exploratory data analysis related to the planned analysis\n",
    " - performs the data analysis\n",
    " - creates a visualization of the analysis \n",
    "\n",
    "\n",
    "*note: all tables and figure should have a figure/table number and a legend*"
   ]
  },
  {
   "cell_type": "markdown",
   "metadata": {},
   "source": [
    "## Discussion\n",
    "- summarize what you found\n",
    "- discuss whether this is what you expected to find?\n",
    "- discuss what impact could such findings have?\n",
    "- discuss what future questions could this lead to?"
   ]
  },
  {
   "cell_type": "markdown",
   "metadata": {},
   "source": [
    "### References\n",
    "- At least 2 citations of literature relevant to the project (format is your choice, just be consistent across the references)\n",
    "- Make sure to cite the source of your data as well"
   ]
  }
 ],
 "metadata": {
  "kernelspec": {
   "display_name": "R",
   "language": "R",
   "name": "ir"
  },
  "language_info": {
   "codemirror_mode": "r",
   "file_extension": ".r",
   "mimetype": "text/x-r-source",
   "name": "R",
   "pygments_lexer": "r",
   "version": "4.0.0"
  }
 },
 "nbformat": 4,
 "nbformat_minor": 4
}
